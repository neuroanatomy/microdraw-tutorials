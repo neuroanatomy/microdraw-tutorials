{
  "nbformat": 4,
  "nbformat_minor": 0,
  "metadata": {
    "colab": {
      "name": "MicroDraw_SquirrelMonkey.ipynb",
      "provenance": [],
      "collapsed_sections": [],
      "toc_visible": true,
      "include_colab_link": true
    },
    "kernelspec": {
      "name": "python3",
      "display_name": "Python 3"
    }
  },
  "cells": [
    {
      "cell_type": "markdown",
      "metadata": {
        "id": "view-in-github",
        "colab_type": "text"
      },
      "source": [
        "<a href=\"https://colab.research.google.com/github/neuroanatomy/microdraw-tutorials/blob/main/MicroDraw_SquirrelMonkey.ipynb\" target=\"_parent\"><img src=\"https://colab.research.google.com/assets/colab-badge.svg\" alt=\"Open In Colab\"/></a>"
      ]
    },
    {
      "cell_type": "markdown",
      "metadata": {
        "id": "paYmU19sxegr"
      },
      "source": [
        "# **What is it like to be a squirrel monkey?**\n",
        "\n",
        "## Analysis of open histological data using MicroDraw.\n",
        "### HIBALL Winterschool workshop 2021\n",
        "\n",
        "Katja Heuer, Nicolas Traut, Anibal Sólon & Roberto Toro\n",
        "\n",
        "<table>\n",
        "<tr valign=\"top\">\n",
        "<td><img width=\"400px\" src=\"https://www.thealexandriazoo.com/images/animals/SquirrelMonkey.jpg\" /></td>\n",
        "<td><img width=\"400px\" src=\"https://brains.anatomy.msu.edu/museum/brain/specimens/primates/squirrelmonk/brain/squirrelmonk6.jpg\" /></td>\n",
        "</tr>\n",
        "</table>"
      ]
    },
    {
      "cell_type": "markdown",
      "metadata": {
        "id": "zrqzR-CexzCo"
      },
      "source": [
        "This collab demonstrates how to programmatically obtain all annotations available for whole-brain histological datasets in MicroDraw.\n",
        "\n",
        "The script also displays all annotations, and can synthesise them into a single histological volume. This allows, for example, to measure the volume of the different structures annotated.\n",
        "\n",
        "In this example, data comes from the [Squirrel monkey project](https://microdraw.pasteur.fr/project/squirrelmonkey).\n",
        "\n",
        "In this workshop, we will manually and collaboratively draw the pial surface of the cerebrum. Our aim will be to recover those annotations and produce a plot of the volume and surface for the cerebrum."
      ]
    },
    {
      "cell_type": "markdown",
      "metadata": {
        "id": "5V8NkI0XMnj-"
      },
      "source": [
        "### 1 Manually and collaboratively draw the pial surface of the Squirrel Monkey brain\n",
        "\n",
        "Each of us will draw a slice, and we will then analyse our collaborative work to compute basic parameters (surface area and volume).\n",
        "\n",
        "We will use a framapad document (like Google doc but no need for account) to communicate and to tell each other which slices are we annotating.\n",
        "\n",
        "Here is the URL of our framapad document: https://mensuel.framapad.org/p/squirrelmonkey\n",
        "\n",
        "Depending on whether you have a tablet with a pen, a mouse or a trackpad, this will take us from 3 to 15 minutes – and also depending on the slice you chose ;)"
      ]
    },
    {
      "cell_type": "markdown",
      "metadata": {
        "id": "kikH-f0PzMtG"
      },
      "source": [
        "### 2 Download and install the microdraw package\n",
        "\n",
        "We will first install the `microdraw.py` module, which has several functions for accessing more easily data in the Microdraw website.\n",
        "\n",
        "We will only use the most basic functions of `microdraw.py` (which is very much work in progress, especially concerning best practices, documentation, and code organisation... 🙃)."
      ]
    },
    {
      "cell_type": "code",
      "metadata": {
        "colab": {
          "base_uri": "https://localhost:8080/"
        },
        "id": "lW0O-Uet1Dnr",
        "outputId": "35247109-6993-49c7-971e-623f728b0a46"
      },
      "source": [
        "%%bash\n",
        "rm -r microdraw\n",
        "git clone https://github.com/r03ert0/microdraw.py\n",
        "mv microdraw.py microdraw\n",
        "pip install -r microdraw/requirements.txt"
      ],
      "execution_count": null,
      "outputs": [
        {
          "output_type": "stream",
          "text": [
            "Requirement already satisfied: bezier==2020.5.19 in /usr/local/lib/python3.6/dist-packages (from -r microdraw/requirements.txt (line 1)) (2020.5.19)\n",
            "Requirement already satisfied: certifi==2020.12.5 in /usr/local/lib/python3.6/dist-packages (from -r microdraw/requirements.txt (line 2)) (2020.12.5)\n",
            "Requirement already satisfied: cycler==0.10.0 in /usr/local/lib/python3.6/dist-packages (from -r microdraw/requirements.txt (line 3)) (0.10.0)\n",
            "Requirement already satisfied: decorator==4.4.2 in /usr/local/lib/python3.6/dist-packages (from -r microdraw/requirements.txt (line 4)) (4.4.2)\n",
            "Requirement already satisfied: distro==1.4.0 in /usr/local/lib/python3.6/dist-packages (from -r microdraw/requirements.txt (line 5)) (1.4.0)\n",
            "Requirement already satisfied: gitdb2==2.0.5 in /usr/local/lib/python3.6/dist-packages (from -r microdraw/requirements.txt (line 6)) (2.0.5)\n",
            "Requirement already satisfied: GitPython==2.1.11 in /usr/local/lib/python3.6/dist-packages (from -r microdraw/requirements.txt (line 7)) (2.1.11)\n",
            "Requirement already satisfied: imageio==2.9.0 in /usr/local/lib/python3.6/dist-packages (from -r microdraw/requirements.txt (line 8)) (2.9.0)\n",
            "Requirement already satisfied: kiwisolver==1.3.1 in /usr/local/lib/python3.6/dist-packages (from -r microdraw/requirements.txt (line 9)) (1.3.1)\n",
            "Requirement already satisfied: networkx==2.5 in /usr/local/lib/python3.6/dist-packages (from -r microdraw/requirements.txt (line 10)) (2.5)\n",
            "Requirement already satisfied: nibabel==3.2.1 in /usr/local/lib/python3.6/dist-packages (from -r microdraw/requirements.txt (line 11)) (3.2.1)\n",
            "Requirement already satisfied: packaging==20.9 in /usr/local/lib/python3.6/dist-packages (from -r microdraw/requirements.txt (line 12)) (20.9)\n",
            "Requirement already satisfied: Pillow==8.1.0 in /usr/local/lib/python3.6/dist-packages (from -r microdraw/requirements.txt (line 13)) (8.1.0)\n",
            "Requirement already satisfied: pyclipper==1.2.1 in /usr/local/lib/python3.6/dist-packages (from -r microdraw/requirements.txt (line 14)) (1.2.1)\n",
            "Requirement already satisfied: pyparsing==2.4.7 in /usr/local/lib/python3.6/dist-packages (from -r microdraw/requirements.txt (line 15)) (2.4.7)\n",
            "Requirement already satisfied: PyQt5==5.12 in /usr/local/lib/python3.6/dist-packages (from -r microdraw/requirements.txt (line 16)) (5.12)\n",
            "Requirement already satisfied: PyQt5-sip==4.19.14 in /usr/local/lib/python3.6/dist-packages (from -r microdraw/requirements.txt (line 17)) (4.19.14)\n",
            "Requirement already satisfied: python-dateutil==2.8.1 in /usr/local/lib/python3.6/dist-packages (from -r microdraw/requirements.txt (line 18)) (2.8.1)\n",
            "Requirement already satisfied: PyWavelets==1.1.1 in /usr/local/lib/python3.6/dist-packages (from -r microdraw/requirements.txt (line 19)) (1.1.1)\n",
            "Requirement already satisfied: Shapely==1.7.1 in /usr/local/lib/python3.6/dist-packages (from -r microdraw/requirements.txt (line 20)) (1.7.1)\n",
            "Requirement already satisfied: six==1.15.0 in /usr/local/lib/python3.6/dist-packages (from -r microdraw/requirements.txt (line 21)) (1.15.0)\n",
            "Requirement already satisfied: smmap2==2.0.5 in /usr/local/lib/python3.6/dist-packages (from -r microdraw/requirements.txt (line 22)) (2.0.5)\n",
            "Requirement already satisfied: svgpathtools==1.4.1 in /usr/local/lib/python3.6/dist-packages (from -r microdraw/requirements.txt (line 23)) (1.4.1)\n",
            "Requirement already satisfied: svgwrite==1.4.1 in /usr/local/lib/python3.6/dist-packages (from -r microdraw/requirements.txt (line 24)) (1.4.1)\n",
            "Requirement already satisfied: tqdm==4.56.0 in /usr/local/lib/python3.6/dist-packages (from -r microdraw/requirements.txt (line 25)) (4.56.0)\n",
            "Requirement already satisfied: typing-extensions==3.7.4.3 in /usr/local/lib/python3.6/dist-packages (from -r microdraw/requirements.txt (line 26)) (3.7.4.3)\n",
            "Requirement already satisfied: yapf==0.26.0 in /usr/local/lib/python3.6/dist-packages (from -r microdraw/requirements.txt (line 27)) (0.26.0)\n",
            "Requirement already satisfied: numpy>=1.18.1 in /usr/local/lib/python3.6/dist-packages (from bezier==2020.5.19->-r microdraw/requirements.txt (line 1)) (1.19.5)\n"
          ],
          "name": "stdout"
        },
        {
          "output_type": "stream",
          "text": [
            "Cloning into 'microdraw.py'...\n"
          ],
          "name": "stderr"
        }
      ]
    },
    {
      "cell_type": "markdown",
      "metadata": {
        "id": "nIq_Unx2z1Zb"
      },
      "source": [
        "### 2 Import libraries\n",
        "\n",
        "Now that `microdraw.py` and its dependencies are installed, we can go back to Python and import them."
      ]
    },
    {
      "cell_type": "code",
      "metadata": {
        "id": "wAKsUq_4YWaK"
      },
      "source": [
        "import sys\n",
        "import numpy as np\n",
        "import matplotlib.pyplot as plt"
      ],
      "execution_count": null,
      "outputs": []
    },
    {
      "cell_type": "code",
      "metadata": {
        "id": "-31LcFUQ5vaR"
      },
      "source": [
        "sys.path.append(\"./microdraw\")\n",
        "from microdraw import microdraw as mic"
      ],
      "execution_count": null,
      "outputs": []
    },
    {
      "cell_type": "markdown",
      "metadata": {
        "id": "cZIqrqUVz7RC"
      },
      "source": [
        "### 3 Set project details\n",
        "\n",
        "Although you can visualise and annotate individual datasets in Microdraw, the best way for collaborating is to create a Project. A project can have multiple datasets, and you can invite collaborators to work with you. Once you log in to Microdraw (using a GitHub account), you can see all the projects in which you are a collaborator in your User page.\n",
        "\n",
        "For this tutorial, we have created a project called \"[squirrelmonkey](https://microdraw.pasteur.fr/project/squirrelmonkey)\", which contains a single dataset: Nissl stained slices from a Squirrel monkey, available from the Brain Museum (a project from the University of Wisconsin-Madison).\n",
        "\n",
        "This project is open, but you can also create private projects. Private tokens require a token, which in our case will be just empty."
      ]
    },
    {
      "cell_type": "code",
      "metadata": {
        "id": "ZscjHQ42XBax"
      },
      "source": [
        "# The project\n",
        "project=\"squirrelmonkey\"\n",
        "\n",
        "# The dataset within the project\n",
        "source=\"https://microdraw.pasteur.fr/squirrelmonkey_cor_cell/squirrelmonkey_cor_cell.json\"\n",
        "\n",
        "# The access token (empty for an open project)\n",
        "token=\"\""
      ],
      "execution_count": null,
      "outputs": []
    },
    {
      "cell_type": "markdown",
      "metadata": {
        "id": "M0_ZpFzfPrBm"
      },
      "source": [
        "### 4 Downloading and displaying annotations\n",
        "We will first download and plot a single slice, to make sure everything is working.\n",
        "\n",
        "\n",
        "\n"
      ]
    },
    {
      "cell_type": "code",
      "metadata": {
        "id": "Zr4tw4diPmRA"
      },
      "source": [
        "# we are downloading the first slice, slice = 0\n",
        "sl = mic.download_all_regions_from_dataset_slice(source, project, 0, token)"
      ],
      "execution_count": 47,
      "outputs": []
    },
    {
      "cell_type": "code",
      "metadata": {
        "colab": {
          "base_uri": "https://localhost:8080/",
          "height": 265
        },
        "id": "1-GdAvbjQL35",
        "outputId": "8a81c8e9-d601-43df-9e24-11198cc6a7a7"
      },
      "source": [
        "# each slice can have multiple regions, each with a different label \n",
        "# (in our case, labels will be \"Region 1\", \"Region 2\", etc.)\n",
        "regions = mic.get_regions_from_dataset_slice(sl)\n",
        "for name, region in regions:\n",
        "  color = mic.color_from_string(name)\n",
        "  plt.fill(region[:, 0], -region[:, 1], c=color, alpha=0.5)"
      ],
      "execution_count": 48,
      "outputs": [
        {
          "output_type": "display_data",
          "data": {
            "image/png": "[encoded data removed]",
            "text/plain": [
              "<Figure size 432x288 with 1 Axes>"
            ]
          },
          "metadata": {
            "tags": [],
            "needs_background": "light"
          }
        }
      ]
    },
    {
      "cell_type": "code",
      "metadata": {
        "colab": {
          "base_uri": "https://localhost:8080/"
        },
        "id": "ElXzL09L0B9V",
        "outputId": "715cb5ac-493d-4fcb-e87a-78067d9e3ef2"
      },
      "source": [
        "# Now that we know that everything is working fine, we will download\n",
        "# all the annotations made by your collaborators and you (should take less than a minute)\n",
        "squirrelmonkey_slices = mic.download_all_regions_from_dataset(source, project, token)"
      ],
      "execution_count": 49,
      "outputs": [
        {
          "output_type": "stream",
          "text": [
            "100%|██████████| 65/65 [00:43<00:00,  1.48it/s]\n"
          ],
          "name": "stderr"
        }
      ]
    },
    {
      "cell_type": "code",
      "metadata": {
        "colab": {
          "base_uri": "https://localhost:8080/",
          "height": 386
        },
        "id": "opa1UAfM0VjE",
        "outputId": "29fe3016-f349-44ce-adb1-3c331936e28f"
      },
      "source": [
        "# microdraw.py has a handy function for plotting all the slices in a dataset\n",
        "# which you can use to see if there is any slice that was missing, or if\n",
        "# the regions are all properly labelled. If that is not the case, you can get\n",
        "# back to the Microdraw website, fix the error, come back here and rerun the\n",
        "# download.\n",
        "mic.draw_all_dataset(squirrelmonkey_slices)"
      ],
      "execution_count": 50,
      "outputs": [
        {
          "output_type": "display_data",
          "data": {
            "image/png": "[encoded data removed]",
            "text/plain": [
              "<Figure size 1800x720 with 1 Axes>"
            ]
          },
          "metadata": {
            "tags": [],
            "needs_background": "light"
          }
        }
      ]
    },
    {
      "cell_type": "markdown",
      "metadata": {
        "id": "sfUD0DkdQ_EB"
      },
      "source": [
        "### 5 Compute pial surface area and brain volume\n",
        "\n",
        "Now that we have all the data, we will use it to compute surface area and brain volume. For that, we need to find out what is the resolution of our images, and the space between slices.\n",
        "\n",
        "This is one brain slice. Its size is 720x541 pixels.\n",
        "\n",
        "<img src=\"https://brains.anatomy.msu.edu/museum/brain/specimens/primates/squirrelmonk/sections/538squirlmonk_61672_6.jpg\" />"
      ]
    },
    {
      "cell_type": "markdown",
      "metadata": {
        "id": "GAe2skdLhOBQ"
      },
      "source": [
        "Using GIMP or some other tool, you can measure the size of the scale bar in the image showing the total antero-posterior length of tha squirrel monkey brain, and the scale bar in a brain slice.\n",
        "\n",
        "You also need to know that width of the annotation layer in MicroDraw is always 1000 units.\n",
        "\n",
        "With those numbers, we can compute the scale factors we need:"
      ]
    },
    {
      "cell_type": "code",
      "metadata": {
        "id": "yX__7AwDRV4x",
        "colab": {
          "base_uri": "https://localhost:8080/"
        },
        "outputId": "d1153c90-372c-487f-ff75-951836f0101c"
      },
      "source": [
        "one_cm_in_px_slice = 280 # px/cm\n",
        "one_svg_unit_in_px = 720/1000 # px/u\n",
        "scaling_factor_in_cm = one_svg_unit_in_px/one_cm_in_px_slice\n",
        "\n",
        "AP_length_in_px = 205 # px\n",
        "one_cm_in_px_brain = 46 # px/cm\n",
        "AP_length_in_cm = 205/406 # cm\n",
        "total_number_of_slices = 65 # slices\n",
        "inter_slice_space_in_cm = AP_length_in_px/one_cm_in_px_brain/total_number_of_slices\n",
        "\n",
        "print(\"scaling_factor: %g cm\"%(scaling_factor_in_cm))\n",
        "print(\"inter_slice_space: %g cm\"%(inter_slice_space_in_cm))"
      ],
      "execution_count": null,
      "outputs": [
        {
          "output_type": "stream",
          "text": [
            "scaling_factor: 0.00257143 cm\n",
            "inter_slice_space: 0.0685619 cm\n"
          ],
          "name": "stdout"
        }
      ]
    },
    {
      "cell_type": "code",
      "metadata": {
        "id": "oZ3JJ__7CIJV"
      },
      "source": [
        "from shapely.geometry.polygon import Polygon"
      ],
      "execution_count": null,
      "outputs": []
    },
    {
      "cell_type": "code",
      "metadata": {
        "colab": {
          "base_uri": "https://localhost:8080/"
        },
        "id": "0WO66vOkDQ6b",
        "outputId": "c3b5fadc-0949-43b5-93cf-259ec6f7379c"
      },
      "source": [
        "# to check that everything is working, we will first compute\n",
        "# the surface area and perimeter of the first region in the first\n",
        "# slice of our dataset\n",
        "name, region = regions[0]\n",
        "poly = Polygon(region)\n",
        "region_volume = poly.area * scaling_factor_in_cm**2 * inter_slice_space_in_cm\n",
        "region_surface_area = poly.length * scaling_factor_in_cm\n",
        "\n",
        "print(\"region_volume:\", region_volume)\n",
        "print(\"region_surface_area:\", region_surface_area)"
      ],
      "execution_count": null,
      "outputs": [
        {
          "output_type": "stream",
          "text": [
            "region_volume: 0.006357199115888796\n",
            "region_surface_area: 1.1712592510370772\n"
          ],
          "name": "stdout"
        }
      ]
    },
    {
      "cell_type": "code",
      "metadata": {
        "colab": {
          "base_uri": "https://localhost:8080/"
        },
        "id": "cYKK_HJGDXym",
        "outputId": "c026c688-b11a-4c4f-bfce-d1981534fe5d"
      },
      "source": [
        "# now we do that for all the dataset\n",
        "total_volume = 0\n",
        "total_surface_area = 0\n",
        "for sl in squirrelmonkey_slices:\n",
        "  for _, region in regions:\n",
        "    poly = Polygon(region)\n",
        "    region_volume = poly.area * scaling_factor_in_cm**2 * inter_slice_space_in_cm\n",
        "    region_surface_area = poly.length * scaling_factor_in_cm\n",
        "    total_volume += region_volume\n",
        "    total_surface_area += region_surface_area\n",
        "\n",
        "print(\"total_volume:\", total_volume)\n",
        "print(\"total_surface_area:\", total_surface_area)\n"
      ],
      "execution_count": null,
      "outputs": [
        {
          "output_type": "stream",
          "text": [
            "total_volume: 0.046779072340436594\n",
            "total_surface_area: 9.035293134687818\n"
          ],
          "name": "stdout"
        }
      ]
    },
    {
      "cell_type": "markdown",
      "metadata": {
        "id": "l5um39PRS8h5"
      },
      "source": [
        "### 6 Conclusion\n",
        "\n",
        "That's it for today! Now you know how to use MicroDraw and microdraw.py to work collaboratively on histological data. As you see, there is a lot that you can do only from the Web browser.\n",
        "\n",
        "Let's stay in touch! We are happy to show you our projects, to help you set up your own projects. We'll be delighted if you would like to help us improve MicroDraw either by coding or by testing it.\n",
        "\n",
        "Thank you all! 😊 "
      ]
    },
    {
      "cell_type": "code",
      "metadata": {
        "id": "3gtHLoAMDhZi"
      },
      "source": [
        ""
      ],
      "execution_count": null,
      "outputs": []
    }
  ]
}